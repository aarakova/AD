{
  "nbformat": 4,
  "nbformat_minor": 0,
  "metadata": {
    "colab": {
      "provenance": [],
      "include_colab_link": true
    },
    "kernelspec": {
      "name": "python3",
      "display_name": "Python 3"
    },
    "language_info": {
      "name": "python"
    }
  },
  "cells": [
    {
      "cell_type": "markdown",
      "metadata": {
        "id": "view-in-github",
        "colab_type": "text"
      },
      "source": [
        "<a href=\"https://colab.research.google.com/github/aarakova/VvAD/blob/SAD4/%D0%A1%D0%9E%D0%98_%D0%9B%D0%A04_%D0%A0%D0%B0%D0%BA%D0%BE%D0%B2%D0%B0_4218.ipynb\" target=\"_parent\"><img src=\"https://colab.research.google.com/assets/colab-badge.svg\" alt=\"Open In Colab\"/></a>"
      ]
    },
    {
      "cell_type": "code",
      "source": [
        "import pandas as pd\n",
        "from scipy.stats import skew, kurtosis, shapiro, chi2_contingency, epps_singleton_2samp, normaltest\n",
        "import numpy as np\n",
        "from math import sqrt, exp"
      ],
      "metadata": {
        "id": "-LattcnKb07b"
      },
      "execution_count": null,
      "outputs": []
    },
    {
      "cell_type": "code",
      "execution_count": null,
      "metadata": {
        "id": "PnzCTIymawMs"
      },
      "outputs": [],
      "source": [
        "n, m = 7, 3\n",
        "\n",
        "data = {\n",
        "    \"№ предприятия\": [1, 2, 3, 4, 5, 6, 7, 8, 9, 10, 11, 12, 13, 14, 15, 16, 17, 18, 19, 20, 21, 22, 23, 24, 25, 26, 27, 28, 29, 30],\n",
        "    \"Выпуск продукции\": [60 + n, 78, 41, 54, 60 + n, n * m + 20, 45, 57, 67, 80 + n, 92, 48, 59, 68, 80 + n, 52, 62, 69, 85, 70 + n, 71, n * m + 30, 72, 88, 70 + n, 74, 96, 75, 101, 70 + n],\n",
        "    \"Прибыль\": [15.7, 18.0, 12.1, 13.8, 15.5, n + m + 10, 12.8, 14.2, 15.9, 17.6, 18.2, n + m + 5, 16.5, 16.2, 16.7, 14.6, 14.8, 16.1, 16.7, 15.8, 16.4, n + m + 20, 16.5, 18.5, 16.4, 16.0, 19.1, 16.3, 19.6, 17.2]\n",
        "}"
      ]
    },
    {
      "cell_type": "markdown",
      "source": [
        "# 1. Коэффициент асимметрии и эксцесса для 'Выпуск продукции' и 'Прибыль'\n"
      ],
      "metadata": {
        "id": "qnqq5GThf91L"
      }
    },
    {
      "cell_type": "code",
      "source": [
        "skewness_vp = skew(data[\"Выпуск продукции\"])\n",
        "kurtosis_vp = kurtosis(data[\"Выпуск продукции\"], fisher=True)  # Fisher=True означает избыточный эксцесс\n",
        "\n",
        "skewness_profit = skew(data[\"Прибыль\"])\n",
        "kurtosis_profit = kurtosis(data[\"Прибыль\"], fisher=True)"
      ],
      "metadata": {
        "id": "s35ZQ9pPf9Fl"
      },
      "execution_count": null,
      "outputs": []
    },
    {
      "cell_type": "code",
      "source": [
        "summary = {\n",
        "    \"Асимметрия и Эксцесс\": {\n",
        "        \"Выпуск продукции\": {\"Асимметрия\": skewness_vp, \"Эксцесс\": kurtosis_vp},\n",
        "        \"Прибыль\": {\"Асимметрия\": skewness_profit, \"Эксцесс\": kurtosis_profit}\n",
        "    }}\n",
        "summary"
      ],
      "metadata": {
        "colab": {
          "base_uri": "https://localhost:8080/"
        },
        "id": "LBI7hSbRgABT",
        "outputId": "5f62c3f9-8d98-4e9c-b2ce-8fcd1bdfff5c"
      },
      "execution_count": null,
      "outputs": [
        {
          "output_type": "execute_result",
          "data": {
            "text/plain": [
              "{'Асимметрия и Эксцесс': {'Выпуск продукции': {'Асимметрия': -0.04742232594659079,\n",
              "   'Эксцесс': -0.7682051731287745},\n",
              "  'Прибыль': {'Асимметрия': 2.586958120664307, 'Эксцесс': 9.472712901290855}}}"
            ]
          },
          "metadata": {},
          "execution_count": 5
        }
      ]
    },
    {
      "cell_type": "markdown",
      "source": [
        "#### Коэффициент асимметрии и эксцесса:\n",
        "\n",
        "- **Для 'Выпуск продукции':**\n",
        "  - Асимметрия: -0.047 (приближается к 0, что указывает на близость к симметричному распределению)\n",
        "  - Эксцесс: -0.768 (показывает, что распределение имеет меньше экстремальных значений по сравнению с нормальным)\n",
        "\n",
        "- **Для 'Прибыли':**\n",
        "  - Асимметрия: 2.587 (значительное смещение влево, указывает на сильную асимметрию)\n",
        "  - Эксцесс: 9.473 (распределение имеет больше пиковых значений по сравнению с нормальным)"
      ],
      "metadata": {
        "id": "qyWkHcmsgQgX"
      }
    },
    {
      "cell_type": "markdown",
      "source": [
        "# 2. Критерий хи-квадрат для 'Выпуск продукции' и 'Прибыль' (разбиение данных на интервалы равной ширины)\n"
      ],
      "metadata": {
        "id": "L0_PFZmpgpSz"
      }
    },
    {
      "cell_type": "code",
      "source": [
        "observed_vp, bins_vp = np.histogram(data[\"Выпуск продукции\"], bins='auto')\n",
        "expected_vp = np.full_like(observed_vp, np.mean(observed_vp))\n",
        "chi2_vp, p_chi2_vp = chi2_contingency([observed_vp, expected_vp])[:2]"
      ],
      "metadata": {
        "id": "ezFqkJU5gP0Z"
      },
      "execution_count": null,
      "outputs": []
    },
    {
      "cell_type": "code",
      "source": [
        "observed_profit, bins_profit = np.histogram(data[\"Прибыль\"], bins='auto')\n",
        "expected_profit = np.full_like(observed_profit, np.mean(observed_profit))\n",
        "chi2_profit, p_chi2_profit = chi2_contingency([observed_profit, expected_profit])[:2]"
      ],
      "metadata": {
        "id": "W87LxKmlguP0"
      },
      "execution_count": null,
      "outputs": []
    },
    {
      "cell_type": "code",
      "source": [
        "summary = {\n",
        "    \"Критерий хи-квадрат\": {\n",
        "        \"Выпуск продукции\": {\"Статистика хи-квадрат\": chi2_vp, \"p-значение\": p_chi2_vp},\n",
        "        \"Прибыль\": {\"Статистика хи-квадрат\": chi2_profit, \"p-значение\": p_chi2_profit}\n",
        "    }}\n",
        "summary"
      ],
      "metadata": {
        "colab": {
          "base_uri": "https://localhost:8080/"
        },
        "id": "yWuYON8-hCCG",
        "outputId": "1051a560-d143-43d5-924b-6d7a8fe945f4"
      },
      "execution_count": null,
      "outputs": [
        {
          "output_type": "execute_result",
          "data": {
            "text/plain": [
              "{'Критерий хи-квадрат': {'Выпуск продукции': {'Статистика хи-квадрат': 1.5054390054390054,\n",
              "   'p-значение': 0.9124413025475099},\n",
              "  'Прибыль': {'Статистика хи-квадрат': 23.466666666666665,\n",
              "   'p-значение': 0.05308738743166657}}}"
            ]
          },
          "metadata": {},
          "execution_count": 8
        }
      ]
    },
    {
      "cell_type": "code",
      "source": [
        "print(\"Наблюдаемые частоты для 'Выпуск продукции':\", observed_vp)\n",
        "print(\"Ожидаемые частоты для 'Выпуск продукции':\", expected_vp)\n",
        "print(\"Наблюдаемые частоты для 'Прибыль':\", observed_profit)\n",
        "print(\"Ожидаемые частоты для 'Прибыль':\", expected_profit)"
      ],
      "metadata": {
        "colab": {
          "base_uri": "https://localhost:8080/"
        },
        "id": "LWyLMAExDg-S",
        "outputId": "bb07744e-ce4a-4b2e-b5e1-8f666e03d464"
      },
      "execution_count": null,
      "outputs": [
        {
          "output_type": "stream",
          "name": "stdout",
          "text": [
            "Наблюдаемые частоты для 'Выпуск продукции': [4 5 6 8 4 3]\n",
            "Ожидаемые частоты для 'Выпуск продукции': [5 5 5 5 5 5]\n",
            "Наблюдаемые частоты для 'Прибыль': [ 2  2  4 13  3  3  2  0  0  0  0  0  0  0  1]\n",
            "Ожидаемые частоты для 'Прибыль': [2 2 2 2 2 2 2 2 2 2 2 2 2 2 2]\n"
          ]
        }
      ]
    },
    {
      "cell_type": "markdown",
      "source": [
        "Критерий хи-квадрат: не работает из-за того, что есть частоты которые меньше 5, следовательно тест статистически некоректен."
      ],
      "metadata": {
        "id": "iogwaUxBg1sT"
      }
    },
    {
      "cell_type": "markdown",
      "source": [
        "# 3. Тест Шапиро-Уилка\n"
      ],
      "metadata": {
        "id": "Vknd2FmegIRW"
      }
    },
    {
      "cell_type": "code",
      "source": [
        "shapiro_vp_stat, shapiro_vp_p = shapiro(data[\"Выпуск продукции\"])\n",
        "shapiro_profit_stat, shapiro_profit_p = shapiro(data[\"Прибыль\"])"
      ],
      "metadata": {
        "id": "ETOS6NK9g91F"
      },
      "execution_count": null,
      "outputs": []
    },
    {
      "cell_type": "code",
      "source": [
        "summary = {\n",
        "    \"Тест Шапиро-Уилка\": {\n",
        "        \"Выпуск продукции\": {\"Статистика\": shapiro_vp_stat, \"p-значение\": shapiro_vp_p},\n",
        "        \"Прибыль\": {\"Статистика\": shapiro_profit_stat, \"p-значение\": shapiro_profit_p}\n",
        "    }\n",
        "}\n",
        "summary"
      ],
      "metadata": {
        "colab": {
          "base_uri": "https://localhost:8080/"
        },
        "id": "nTJra3f8hM7L",
        "outputId": "20bfb771-4bc9-4b42-d8a3-55de8e62318d"
      },
      "execution_count": null,
      "outputs": [
        {
          "output_type": "execute_result",
          "data": {
            "text/plain": [
              "{'Тест Шапиро-Уилка': {'Выпуск продукции': {'Статистика': 0.9758151962861061,\n",
              "   'p-значение': 0.7067420543890376},\n",
              "  'Прибыль': {'Статистика': 0.7529934372752245,\n",
              "   'p-значение': 1.0183221562102387e-05}}}"
            ]
          },
          "metadata": {},
          "execution_count": 17
        }
      ]
    },
    {
      "cell_type": "markdown",
      "source": [
        "#### Критерий Шапиро-Уилка:\n",
        "\n",
        "- **Для 'Выпуск продукции':** p-value = 0.707 (нет оснований отвергнуть гипотезу о нормальности)\n",
        "- **Для 'Прибыли':** p-value = 0.00001 (существенное отклонение от нормальности)\n"
      ],
      "metadata": {
        "id": "T6HgvVX5hSQf"
      }
    },
    {
      "cell_type": "markdown",
      "source": [
        "# 4. Тест Эппса-Палли\n"
      ],
      "metadata": {
        "id": "0TKha_F_hlGc"
      }
    },
    {
      "cell_type": "code",
      "source": [
        "def epps_palli_statistic(X):\n",
        "    N = len(X)\n",
        "    X = np.array(X)\n",
        "    X_mean = X.mean()\n",
        "\n",
        "    m2 = np.var(X, ddof=0)\n",
        "\n",
        "    A = sqrt(2) * np.sum([exp(-(X[i] - X_mean) ** 2 / (4 * m2)) for i in range(N)])\n",
        "\n",
        "    B = 2 / N * np.sum(\n",
        "        [np.sum([exp(-(X[j] - X[k]) ** 2 / (2 * m2)) for j in range(0, k)])\n",
        "         for k in range(1, N)]\n",
        "    )\n",
        "\n",
        "    TEP_calc = 1 + N / sqrt(3) + B - A\n",
        "    return TEP_calc\n",
        "\n",
        "tep_vp = epps_palli_statistic(data[\"Выпуск продукции\"])\n",
        "tep_profit = epps_palli_statistic(data[\"Прибыль\"])\n",
        "\n",
        "epps_palli_results = {\n",
        "    \"Критерий Эппса-Палли\": {\n",
        "        \"Выпуск продукции\": {\"Статистика\": tep_vp},\n",
        "        \"Прибыль\": {\"Статистика\": tep_profit}\n",
        "    }\n",
        "}\n",
        "\n",
        "epps_palli_results"
      ],
      "metadata": {
        "colab": {
          "base_uri": "https://localhost:8080/"
        },
        "id": "13FKEkndf7S8",
        "outputId": "6291f9e8-010d-4c00-c252-0bcf15025539"
      },
      "execution_count": null,
      "outputs": [
        {
          "output_type": "execute_result",
          "data": {
            "text/plain": [
              "{'Критерий Эппса-Палли': {'Выпуск продукции': {'Статистика': 0.04897058188379333},\n",
              "  'Прибыль': {'Статистика': 1.1840135929373474}}}"
            ]
          },
          "metadata": {},
          "execution_count": 23
        }
      ]
    },
    {
      "cell_type": "markdown",
      "source": [
        "### Вывод по критерию Эппса-Палли\n",
        "\n",
        "- **Для 'Выпуск продукции':**  \n",
        "  Статистика критерия Эппса-Палли составила 0.04897, что является низким значением и указывает на близкое соответствие распределения данных нормальному. Это говорит о том, что отклонение от нормальности несущественно.\n",
        "\n",
        "- **Для 'Прибыли':**  \n",
        "  Статистика критерия Эппса-Палли составила 1.184, что значительно выше по сравнению с 'Выпуском продукции'. Это значение указывает на заметное отклонение от нормального распределения.\n"
      ],
      "metadata": {
        "id": "0drEtUPodiCP"
      }
    },
    {
      "cell_type": "markdown",
      "source": [
        "# Вывод:\n",
        "\n",
        "### Для 'Выпуск продукции':\n",
        "- **Критерий хи-квадрат**: Тест статистически некорректен, поскольку некоторые ожидаемые частоты меньше 5. Это нарушает одно из ключевых условий применения данного теста.\n",
        "- **Гипотеза нормальности**: Большинство других тестов подтверждают гипотезу о нормальности данных. Коэффициенты асимметрии и эксцесса указывают на незначительное отклонение. Тест Шапиро-Уилка также поддерживает гипотезу нормальности.\n",
        "- **Общий вывод**: Данные по 'Выпуск продукции' можно считать соответствующими нормальному распределению, несмотря на невозможность применения критерия хи-квадрат.\n",
        "\n",
        "### Для 'Прибыли':\n",
        "- **Критерий хи-квадрат**: Не работает из-за наличия частот меньше 5, что делает тест статистически некорректным.\n",
        "- **Гипотеза нормальности**: Данные демонстрируют значительное отклонение от нормального распределения. Это подтверждается высоким значением асимметрии и эксцесса, а также низким p-значением теста Шапиро-Уилка.\n",
        "- **Общий вывод**: Данные по 'Прибыль' не соответствуют нормальному распределению\n"
      ],
      "metadata": {
        "id": "08DK4RUUibTg"
      }
    }
  ]
}